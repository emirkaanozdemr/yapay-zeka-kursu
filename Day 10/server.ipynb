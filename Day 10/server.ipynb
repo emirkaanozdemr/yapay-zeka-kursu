{
 "cells": [
  {
   "cell_type": "code",
   "execution_count": 1,
   "id": "3ad1dddd",
   "metadata": {},
   "outputs": [
    {
     "name": "stdout",
     "output_type": "stream",
     "text": [
      "Serving HTTP on :: port 8000 (http://[::]:8000/) ...\n",
      "::1 - - [10/Mar/2024 10:57:16] \"GET / HTTP/1.1\" 200 -\n",
      "::1 - - [10/Mar/2024 11:02:24] \"GET / HTTP/1.1\" 200 -\n",
      "^C\n",
      "\n",
      "Keyboard interrupt received, exiting.\n"
     ]
    }
   ],
   "source": [
    "!python -m http.server 8000"
   ]
  },
  {
   "cell_type": "code",
   "execution_count": null,
   "id": "d243b8a3",
   "metadata": {},
   "outputs": [],
   "source": []
  }
 ],
 "metadata": {
  "kernelspec": {
   "display_name": "Python 3 (ipykernel)",
   "language": "python",
   "name": "python3"
  },
  "language_info": {
   "codemirror_mode": {
    "name": "ipython",
    "version": 3
   },
   "file_extension": ".py",
   "mimetype": "text/x-python",
   "name": "python",
   "nbconvert_exporter": "python",
   "pygments_lexer": "ipython3",
   "version": "3.11.5"
  }
 },
 "nbformat": 4,
 "nbformat_minor": 5
}
