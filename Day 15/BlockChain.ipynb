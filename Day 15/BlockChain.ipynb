{
 "cells": [
  {
   "cell_type": "code",
   "execution_count": 1,
   "id": "d79c9480",
   "metadata": {},
   "outputs": [],
   "source": [
    "import hashlib\n",
    "import datetime"
   ]
  },
  {
   "cell_type": "code",
   "execution_count": 3,
   "id": "1423af38",
   "metadata": {},
   "outputs": [],
   "source": [
    "class Block:\n",
    "    def __init__(self, data, prev_hash):\n",
    "        self.timestamp=datetime.datetime.now()\n",
    "        self.data=data\n",
    "        self.prev_hash=prev_hash\n",
    "        self.hash=self.calc_hash()\n",
    "        \n",
    "    def calc_hash(self):\n",
    "        hash_string=str(self.timestamp)+str(self.data)+str(self.prev_hash)\n",
    "        return hashlib.sha256(hash_string.encode()).hexdigest()"
   ]
  },
  {
   "cell_type": "code",
   "execution_count": 4,
   "id": "4d60dc08",
   "metadata": {},
   "outputs": [],
   "source": [
    "class Blockchain:\n",
    "    def __init__(self):\n",
    "        self.chain=[self.create_genesis_block()]\n",
    "    def create_genesis_block(self):\n",
    "        return Block('Genesis Block',0)\n",
    "    def add_block(self,data):\n",
    "        prev_block=self.chain[-1]\n",
    "        new_block=Block(data,prev_block.hash)\n",
    "        self.chain.append(new_block)"
   ]
  },
  {
   "cell_type": "code",
   "execution_count": 5,
   "id": "15e42749",
   "metadata": {},
   "outputs": [],
   "source": [
    "blockchain=Blockchain()"
   ]
  },
  {
   "cell_type": "code",
   "execution_count": 6,
   "id": "a7c829c3",
   "metadata": {},
   "outputs": [],
   "source": [
    "blockchain.add_block('First Block')\n",
    "blockchain.add_block('Second Block')\n",
    "blockchain.add_block('Third Block')"
   ]
  },
  {
   "cell_type": "code",
   "execution_count": 8,
   "id": "46860846",
   "metadata": {},
   "outputs": [
    {
     "name": "stdout",
     "output_type": "stream",
     "text": [
      "Blockchain: \n",
      "date: 2024-04-06 09:11:49.488312\n",
      "Data: Genesis Block\n",
      "Previous Hash: 0\n",
      "Hash: f7bc29f97516082aa0277ef24acb2527a4a005f7ad51d1094b1e0cde1942c61b\n",
      "\n",
      "\n",
      "date: 2024-04-06 09:13:04.425711\n",
      "Data: First Block\n",
      "Previous Hash: f7bc29f97516082aa0277ef24acb2527a4a005f7ad51d1094b1e0cde1942c61b\n",
      "Hash: 9af8cd66bd3526cad81eff6e21ad48830ec438d22ea8b6cbab4b32011ba41aaf\n",
      "\n",
      "\n",
      "date: 2024-04-06 09:13:04.425787\n",
      "Data: Second Block\n",
      "Previous Hash: 9af8cd66bd3526cad81eff6e21ad48830ec438d22ea8b6cbab4b32011ba41aaf\n",
      "Hash: b33261a3e61bd7688a26a91a0ecc73d620ee2229fc51a2c8feda57e7214cf773\n",
      "\n",
      "\n",
      "date: 2024-04-06 09:13:04.425833\n",
      "Data: Third Block\n",
      "Previous Hash: b33261a3e61bd7688a26a91a0ecc73d620ee2229fc51a2c8feda57e7214cf773\n",
      "Hash: 9afc47da0c62d961bdcac73bf47771bd95f8e2fa8f4e1d45c310956b0c05b7d2\n",
      "\n",
      "\n"
     ]
    }
   ],
   "source": [
    "print(\"Blockchain: \")\n",
    "for block in blockchain.chain:\n",
    "    print(\"date:\",block.timestamp)\n",
    "    print(\"Data:\",block.data)\n",
    "    print(\"Previous Hash:\",block.prev_hash)\n",
    "    print(\"Hash:\",block.hash)\n",
    "    print(\"\\n\")"
   ]
  },
  {
   "cell_type": "code",
   "execution_count": null,
   "id": "e304d633",
   "metadata": {},
   "outputs": [],
   "source": []
  }
 ],
 "metadata": {
  "kernelspec": {
   "display_name": "Python 3 (ipykernel)",
   "language": "python",
   "name": "python3"
  },
  "language_info": {
   "codemirror_mode": {
    "name": "ipython",
    "version": 3
   },
   "file_extension": ".py",
   "mimetype": "text/x-python",
   "name": "python",
   "nbconvert_exporter": "python",
   "pygments_lexer": "ipython3",
   "version": "3.11.5"
  }
 },
 "nbformat": 4,
 "nbformat_minor": 5
}
