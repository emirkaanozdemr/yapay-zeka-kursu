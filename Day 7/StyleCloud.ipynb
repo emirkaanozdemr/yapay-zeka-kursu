{
 "cells": [
  {
   "cell_type": "code",
   "execution_count": 1,
   "id": "a4b96209",
   "metadata": {},
   "outputs": [],
   "source": [
    "#Style Cloud"
   ]
  },
  {
   "cell_type": "code",
   "execution_count": 2,
   "id": "8812c3f3",
   "metadata": {},
   "outputs": [
    {
     "name": "stdout",
     "output_type": "stream",
     "text": [
      "Requirement already satisfied: stylecloud in /Users/emirkaanozdemir/anaconda3/lib/python3.11/site-packages (0.5.2)\n",
      "Requirement already satisfied: wordcloud in /Users/emirkaanozdemir/anaconda3/lib/python3.11/site-packages (from stylecloud) (1.9.3)\n",
      "Requirement already satisfied: icon-font-to-png in /Users/emirkaanozdemir/anaconda3/lib/python3.11/site-packages (from stylecloud) (0.4.1)\n",
      "Requirement already satisfied: palettable in /Users/emirkaanozdemir/anaconda3/lib/python3.11/site-packages (from stylecloud) (3.3.3)\n",
      "Requirement already satisfied: fire in /Users/emirkaanozdemir/anaconda3/lib/python3.11/site-packages (from stylecloud) (0.5.0)\n",
      "Requirement already satisfied: matplotlib in /Users/emirkaanozdemir/anaconda3/lib/python3.11/site-packages (from stylecloud) (3.7.2)\n",
      "Requirement already satisfied: six in /Users/emirkaanozdemir/anaconda3/lib/python3.11/site-packages (from fire->stylecloud) (1.16.0)\n",
      "Requirement already satisfied: termcolor in /Users/emirkaanozdemir/anaconda3/lib/python3.11/site-packages (from fire->stylecloud) (2.4.0)\n",
      "Requirement already satisfied: Pillow>=4.0.0 in /Users/emirkaanozdemir/anaconda3/lib/python3.11/site-packages (from icon-font-to-png->stylecloud) (10.0.1)\n",
      "Requirement already satisfied: requests>=2.12.5 in /Users/emirkaanozdemir/anaconda3/lib/python3.11/site-packages (from icon-font-to-png->stylecloud) (2.31.0)\n",
      "Requirement already satisfied: tinycss>=0.4 in /Users/emirkaanozdemir/anaconda3/lib/python3.11/site-packages (from icon-font-to-png->stylecloud) (0.4)\n",
      "Requirement already satisfied: contourpy>=1.0.1 in /Users/emirkaanozdemir/anaconda3/lib/python3.11/site-packages (from matplotlib->stylecloud) (1.0.5)\n",
      "Requirement already satisfied: cycler>=0.10 in /Users/emirkaanozdemir/anaconda3/lib/python3.11/site-packages (from matplotlib->stylecloud) (0.11.0)\n",
      "Requirement already satisfied: fonttools>=4.22.0 in /Users/emirkaanozdemir/anaconda3/lib/python3.11/site-packages (from matplotlib->stylecloud) (4.25.0)\n",
      "Requirement already satisfied: kiwisolver>=1.0.1 in /Users/emirkaanozdemir/anaconda3/lib/python3.11/site-packages (from matplotlib->stylecloud) (1.4.4)\n",
      "Requirement already satisfied: numpy>=1.20 in /Users/emirkaanozdemir/anaconda3/lib/python3.11/site-packages (from matplotlib->stylecloud) (1.24.3)\n",
      "Requirement already satisfied: packaging>=20.0 in /Users/emirkaanozdemir/anaconda3/lib/python3.11/site-packages (from matplotlib->stylecloud) (23.1)\n",
      "Requirement already satisfied: pyparsing<3.1,>=2.3.1 in /Users/emirkaanozdemir/anaconda3/lib/python3.11/site-packages (from matplotlib->stylecloud) (3.0.9)\n",
      "Requirement already satisfied: python-dateutil>=2.7 in /Users/emirkaanozdemir/anaconda3/lib/python3.11/site-packages (from matplotlib->stylecloud) (2.8.2)\n",
      "Requirement already satisfied: charset-normalizer<4,>=2 in /Users/emirkaanozdemir/anaconda3/lib/python3.11/site-packages (from requests>=2.12.5->icon-font-to-png->stylecloud) (2.0.4)\n",
      "Requirement already satisfied: idna<4,>=2.5 in /Users/emirkaanozdemir/anaconda3/lib/python3.11/site-packages (from requests>=2.12.5->icon-font-to-png->stylecloud) (2.10)\n",
      "Requirement already satisfied: urllib3<3,>=1.21.1 in /Users/emirkaanozdemir/anaconda3/lib/python3.11/site-packages (from requests>=2.12.5->icon-font-to-png->stylecloud) (1.26.16)\n",
      "Requirement already satisfied: certifi>=2017.4.17 in /Users/emirkaanozdemir/anaconda3/lib/python3.11/site-packages (from requests>=2.12.5->icon-font-to-png->stylecloud) (2023.11.17)\n",
      "Note: you may need to restart the kernel to use updated packages.\n"
     ]
    }
   ],
   "source": [
    "pip install --upgrade stylecloud"
   ]
  },
  {
   "cell_type": "code",
   "execution_count": 3,
   "id": "8bc94c78",
   "metadata": {},
   "outputs": [],
   "source": [
    "import stylecloud as sc"
   ]
  },
  {
   "cell_type": "code",
   "execution_count": 4,
   "id": "045dd186",
   "metadata": {},
   "outputs": [
    {
     "data": {
      "text/plain": [
       "['__builtins__',\n",
       " '__cached__',\n",
       " '__doc__',\n",
       " '__file__',\n",
       " '__loader__',\n",
       " '__name__',\n",
       " '__package__',\n",
       " '__path__',\n",
       " '__spec__',\n",
       " 'gen_stylecloud',\n",
       " 'stylecloud']"
      ]
     },
     "execution_count": 4,
     "metadata": {},
     "output_type": "execute_result"
    }
   ],
   "source": [
    "dir(sc)"
   ]
  },
  {
   "cell_type": "code",
   "execution_count": 5,
   "id": "781b8266",
   "metadata": {
    "collapsed": true
   },
   "outputs": [
    {
     "name": "stdout",
     "output_type": "stream",
     "text": [
      "Requirement already satisfied: icon_font_to_png in /Users/emirkaanozdemir/anaconda3/lib/python3.11/site-packages (0.4.1)\n",
      "Requirement already satisfied: Pillow>=4.0.0 in /Users/emirkaanozdemir/anaconda3/lib/python3.11/site-packages (from icon_font_to_png) (10.0.1)\n",
      "Requirement already satisfied: requests>=2.12.5 in /Users/emirkaanozdemir/anaconda3/lib/python3.11/site-packages (from icon_font_to_png) (2.31.0)\n",
      "Requirement already satisfied: six>=1.10.0 in /Users/emirkaanozdemir/anaconda3/lib/python3.11/site-packages (from icon_font_to_png) (1.16.0)\n",
      "Requirement already satisfied: tinycss>=0.4 in /Users/emirkaanozdemir/anaconda3/lib/python3.11/site-packages (from icon_font_to_png) (0.4)\n",
      "Requirement already satisfied: charset-normalizer<4,>=2 in /Users/emirkaanozdemir/anaconda3/lib/python3.11/site-packages (from requests>=2.12.5->icon_font_to_png) (2.0.4)\n",
      "Requirement already satisfied: idna<4,>=2.5 in /Users/emirkaanozdemir/anaconda3/lib/python3.11/site-packages (from requests>=2.12.5->icon_font_to_png) (2.10)\n",
      "Requirement already satisfied: urllib3<3,>=1.21.1 in /Users/emirkaanozdemir/anaconda3/lib/python3.11/site-packages (from requests>=2.12.5->icon_font_to_png) (1.26.16)\n",
      "Requirement already satisfied: certifi>=2017.4.17 in /Users/emirkaanozdemir/anaconda3/lib/python3.11/site-packages (from requests>=2.12.5->icon_font_to_png) (2023.11.17)\n",
      "Note: you may need to restart the kernel to use updated packages.\n"
     ]
    }
   ],
   "source": [
    "pip install icon_font_to_png\n"
   ]
  },
  {
   "cell_type": "code",
   "execution_count": 6,
   "id": "1e8e96f1",
   "metadata": {
    "collapsed": true
   },
   "outputs": [
    {
     "ename": "AttributeError",
     "evalue": "'ImageDraw' object has no attribute 'textsize'",
     "output_type": "error",
     "traceback": [
      "\u001b[0;31m---------------------------------------------------------------------------\u001b[0m",
      "\u001b[0;31mAttributeError\u001b[0m                            Traceback (most recent call last)",
      "Cell \u001b[0;32mIn[6], line 1\u001b[0m\n\u001b[0;32m----> 1\u001b[0m sc\u001b[38;5;241m.\u001b[39mgen_stylecloud(file_path\u001b[38;5;241m=\u001b[39m\u001b[38;5;124m'\u001b[39m\u001b[38;5;124mchallenge.txt\u001b[39m\u001b[38;5;124m'\u001b[39m,output_name\u001b[38;5;241m=\u001b[39m\u001b[38;5;124m'\u001b[39m\u001b[38;5;124mch.png\u001b[39m\u001b[38;5;124m'\u001b[39m)\n",
      "File \u001b[0;32m~/anaconda3/lib/python3.11/site-packages/stylecloud/stylecloud.py:218\u001b[0m, in \u001b[0;36mgen_stylecloud\u001b[0;34m(text, file_path, size, icon_name, palette, colors, background_color, max_font_size, max_words, stopwords, custom_stopwords, add_stopwords, icon_dir, output_name, gradient, font_path, random_state, collocations, invert_mask, pro_icon_path, pro_css_path)\u001b[0m\n\u001b[1;32m    215\u001b[0m \u001b[38;5;28;01mif\u001b[39;00m file_path:\n\u001b[1;32m    216\u001b[0m     text \u001b[38;5;241m=\u001b[39m file_to_text(file_path)\n\u001b[0;32m--> 218\u001b[0m gen_fa_mask(icon_name, size, icon_dir, pro_icon_path, pro_css_path)\n\u001b[1;32m    220\u001b[0m \u001b[38;5;28;01mif\u001b[39;00m gradient \u001b[38;5;129;01mand\u001b[39;00m colors \u001b[38;5;129;01mis\u001b[39;00m \u001b[38;5;28;01mNone\u001b[39;00m:\n\u001b[1;32m    221\u001b[0m     pal_colors, mask_array \u001b[38;5;241m=\u001b[39m gen_gradient_mask(\n\u001b[1;32m    222\u001b[0m         size, palette, icon_dir, gradient, invert_mask\n\u001b[1;32m    223\u001b[0m     )\n",
      "File \u001b[0;32m~/anaconda3/lib/python3.11/site-packages/stylecloud/stylecloud.py:76\u001b[0m, in \u001b[0;36mgen_fa_mask\u001b[0;34m(icon_name, size, icon_dir, pro_icon_path, pro_css_path)\u001b[0m\n\u001b[1;32m     73\u001b[0m \u001b[38;5;28;01mif\u001b[39;00m \u001b[38;5;28misinstance\u001b[39m(size, \u001b[38;5;28mtuple\u001b[39m):\n\u001b[1;32m     74\u001b[0m     size \u001b[38;5;241m=\u001b[39m \u001b[38;5;28mmin\u001b[39m(size)\n\u001b[0;32m---> 76\u001b[0m icon\u001b[38;5;241m.\u001b[39mexport_icon(\n\u001b[1;32m     77\u001b[0m     icon\u001b[38;5;241m=\u001b[39micon_name_raw[\u001b[38;5;28mlen\u001b[39m(icon\u001b[38;5;241m.\u001b[39mcommon_prefix) :],\n\u001b[1;32m     78\u001b[0m     size\u001b[38;5;241m=\u001b[39msize,\n\u001b[1;32m     79\u001b[0m     filename\u001b[38;5;241m=\u001b[39m\u001b[38;5;124m\"\u001b[39m\u001b[38;5;124micon.png\u001b[39m\u001b[38;5;124m\"\u001b[39m,\n\u001b[1;32m     80\u001b[0m     export_dir\u001b[38;5;241m=\u001b[39micon_dir,\n\u001b[1;32m     81\u001b[0m )\n",
      "File \u001b[0;32m~/anaconda3/lib/python3.11/site-packages/icon_font_to_png/icon_font.py:107\u001b[0m, in \u001b[0;36mIconFont.export_icon\u001b[0;34m(self, icon, size, color, scale, filename, export_dir)\u001b[0m\n\u001b[1;32m    104\u001b[0m     scale_factor \u001b[38;5;241m=\u001b[39m \u001b[38;5;28mfloat\u001b[39m(scale)\n\u001b[1;32m    106\u001b[0m font \u001b[38;5;241m=\u001b[39m ImageFont\u001b[38;5;241m.\u001b[39mtruetype(\u001b[38;5;28mself\u001b[39m\u001b[38;5;241m.\u001b[39mttf_file, \u001b[38;5;28mint\u001b[39m(size \u001b[38;5;241m*\u001b[39m scale_factor))\n\u001b[0;32m--> 107\u001b[0m width, height \u001b[38;5;241m=\u001b[39m draw\u001b[38;5;241m.\u001b[39mtextsize(\u001b[38;5;28mself\u001b[39m\u001b[38;5;241m.\u001b[39mcss_icons[icon], font\u001b[38;5;241m=\u001b[39mfont)\n\u001b[1;32m    109\u001b[0m \u001b[38;5;66;03m# If auto-scaling is enabled, we need to make sure the resulting\u001b[39;00m\n\u001b[1;32m    110\u001b[0m \u001b[38;5;66;03m# graphic fits inside the boundary. The values are rounded and may be\u001b[39;00m\n\u001b[1;32m    111\u001b[0m \u001b[38;5;66;03m# off by a pixel or two, so we may need to do a few iterations.\u001b[39;00m\n\u001b[1;32m    112\u001b[0m \u001b[38;5;66;03m# The use of a decrementing multiplication factor protects us from\u001b[39;00m\n\u001b[1;32m    113\u001b[0m \u001b[38;5;66;03m# getting into an infinite loop.\u001b[39;00m\n\u001b[1;32m    114\u001b[0m \u001b[38;5;28;01mif\u001b[39;00m scale \u001b[38;5;241m==\u001b[39m \u001b[38;5;124m'\u001b[39m\u001b[38;5;124mauto\u001b[39m\u001b[38;5;124m'\u001b[39m:\n",
      "\u001b[0;31mAttributeError\u001b[0m: 'ImageDraw' object has no attribute 'textsize'"
     ]
    }
   ],
   "source": [
    "sc.gen_stylecloud(file_path='challenge.txt',output_name='ch.png')\n",
    "#bayrak şeklinde bir wordcloud oluşturur"
   ]
  },
  {
   "cell_type": "code",
   "execution_count": null,
   "id": "f5f2940e",
   "metadata": {},
   "outputs": [],
   "source": [
    "from IPython.display import Image\n",
    "Image(filename='ch.png')"
   ]
  },
  {
   "cell_type": "code",
   "execution_count": null,
   "id": "6bd21d1d",
   "metadata": {},
   "outputs": [],
   "source": [
    "sc.gen_stylecloud(\n",
    "    file_path='challenge.txt',\n",
    "    background_color='blue',\n",
    "    icon_name='fas fa-car',\n",
    "    output_name='ch2.png')"
   ]
  },
  {
   "cell_type": "code",
   "execution_count": null,
   "id": "65fe3508",
   "metadata": {},
   "outputs": [],
   "source": [
    "sc.gen_stylecloud(\n",
    "    file_path='challenge.txt',\n",
    "    icon_name='fas fa-fighter-jet',\n",
    "    output_name='ch3.png')"
   ]
  },
  {
   "cell_type": "code",
   "execution_count": null,
   "id": "0c4993f3",
   "metadata": {},
   "outputs": [],
   "source": [
    "sc.gen_stylecloud(\n",
    "    file_path='challenge.txt',\n",
    "    icon_name='fas fa-star-and-crescent',\n",
    "    output_name='tr.png')"
   ]
  }
 ],
 "metadata": {
  "kernelspec": {
   "display_name": "Python 3 (ipykernel)",
   "language": "python",
   "name": "python3"
  },
  "language_info": {
   "codemirror_mode": {
    "name": "ipython",
    "version": 3
   },
   "file_extension": ".py",
   "mimetype": "text/x-python",
   "name": "python",
   "nbconvert_exporter": "python",
   "pygments_lexer": "ipython3",
   "version": "3.11.5"
  }
 },
 "nbformat": 4,
 "nbformat_minor": 5
}
