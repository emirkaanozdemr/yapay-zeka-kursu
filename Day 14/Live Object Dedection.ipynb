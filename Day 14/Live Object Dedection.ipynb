{
 "cells": [
  {
   "cell_type": "code",
   "execution_count": 4,
   "id": "5e81b393",
   "metadata": {},
   "outputs": [
    {
     "name": "stderr",
     "output_type": "stream",
     "text": [
      "[mjpeg @ 0x107807ab0] overread 8\n"
     ]
    }
   ],
   "source": [
    "import cvlib as cv\n",
    "from cvlib.object_detection import draw_bbox\n",
    "import cv2\n",
    "\n",
    "webcam=cv2.VideoCapture(\"http://192.168.1.21:8080/video\")\n",
    "\n",
    "while webcam.isOpened():\n",
    "    ret,frame=webcam.read()\n",
    "    \n",
    "    bbox,label,conf=cv.detect_common_objects(frame)\n",
    "    \n",
    "    out=draw_bbox(frame,bbox,label,conf)\n",
    "    \n",
    "    cv2.imshow(\"Gerçek Zamanlı Nesne Tanıma\",out)\n",
    "    \n",
    "    if cv2.waitKey(1) & 0xFF==ord(\"q\"):\n",
    "        break\n",
    "\n",
    "webcam.release()\n",
    "cv2.destroyAllWindows()"
   ]
  },
  {
   "cell_type": "code",
   "execution_count": null,
   "id": "d179f8ca",
   "metadata": {},
   "outputs": [],
   "source": []
  }
 ],
 "metadata": {
  "kernelspec": {
   "display_name": "Python 3 (ipykernel)",
   "language": "python",
   "name": "python3"
  },
  "language_info": {
   "codemirror_mode": {
    "name": "ipython",
    "version": 3
   },
   "file_extension": ".py",
   "mimetype": "text/x-python",
   "name": "python",
   "nbconvert_exporter": "python",
   "pygments_lexer": "ipython3",
   "version": "3.11.5"
  }
 },
 "nbformat": 4,
 "nbformat_minor": 5
}
